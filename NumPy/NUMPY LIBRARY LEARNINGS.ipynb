{
 "cells": [
  {
   "cell_type": "code",
   "execution_count": 1,
   "id": "b62fc36a",
   "metadata": {},
   "outputs": [],
   "source": [
    "import numpy as np\n",
    "from numpy import *"
   ]
  },
  {
   "cell_type": "code",
   "execution_count": 2,
   "id": "1f9d20b6",
   "metadata": {},
   "outputs": [
    {
     "name": "stdout",
     "output_type": "stream",
     "text": [
      "[1 2 3 4 5]\n"
     ]
    }
   ],
   "source": [
    "arr= array ([1,2,3,4,5])\n",
    "print(arr)"
   ]
  },
  {
   "cell_type": "code",
   "execution_count": 3,
   "id": "1ef82e2e",
   "metadata": {},
   "outputs": [
    {
     "name": "stdout",
     "output_type": "stream",
     "text": [
      "int32\n"
     ]
    }
   ],
   "source": [
    "print(arr.dtype)"
   ]
  },
  {
   "cell_type": "code",
   "execution_count": 4,
   "id": "17f3a541",
   "metadata": {},
   "outputs": [
    {
     "name": "stdout",
     "output_type": "stream",
     "text": [
      "[2.  3.  5.  7.5 4. ]\n"
     ]
    }
   ],
   "source": [
    "arr=array([2,3,5,7.5,4])\n",
    "print(arr)"
   ]
  },
  {
   "cell_type": "code",
   "execution_count": 5,
   "id": "4b4a3fba",
   "metadata": {},
   "outputs": [
    {
     "name": "stdout",
     "output_type": "stream",
     "text": [
      "float64\n"
     ]
    }
   ],
   "source": [
    "print(arr.dtype)"
   ]
  },
  {
   "cell_type": "code",
   "execution_count": 6,
   "id": "990960b4",
   "metadata": {},
   "outputs": [
    {
     "name": "stdout",
     "output_type": "stream",
     "text": [
      "[ 1.  32.6 55.4]\n",
      "float64\n"
     ]
    }
   ],
   "source": [
    "arr=array([1,32.6,55.4],float)\n",
    "print(arr)\n",
    "print(arr.dtype)"
   ]
  },
  {
   "cell_type": "code",
   "execution_count": 7,
   "id": "4d1c0205",
   "metadata": {},
   "outputs": [
    {
     "name": "stdout",
     "output_type": "stream",
     "text": [
      "[ 1.  10.5 20. ]\n"
     ]
    }
   ],
   "source": [
    "#arr=linspace(start, end, parts)   #parts mean output parts----if 3 mean output section 3 7 14\n",
    "\n",
    "arr=linspace(1,20,3)       #output alltime FLOAT type er\n",
    "print(arr)"
   ]
  },
  {
   "cell_type": "markdown",
   "id": "d33917eb",
   "metadata": {},
   "source": [
    "## Numpy array using arange"
   ]
  },
  {
   "cell_type": "code",
   "execution_count": 8,
   "id": "df570556",
   "metadata": {},
   "outputs": [
    {
     "name": "stdout",
     "output_type": "stream",
     "text": [
      "[ 1  2  3  4  5  6  7  8  9 10 11 12 13 14 15 16 17]\n"
     ]
    }
   ],
   "source": [
    "#arr=arange(start, end , steps)\n",
    "arr=np.arange(1,18)\n",
    "print(arr)"
   ]
  },
  {
   "cell_type": "code",
   "execution_count": 9,
   "id": "2e860b1c",
   "metadata": {},
   "outputs": [
    {
     "name": "stdout",
     "output_type": "stream",
     "text": [
      "[ 1  5  9 13 17]\n"
     ]
    }
   ],
   "source": [
    "#arange using steps\n",
    "\n",
    "arr=np.arange(1,21,4)\n",
    "print(arr)"
   ]
  },
  {
   "cell_type": "markdown",
   "id": "8bc1adf3",
   "metadata": {},
   "source": [
    "## Numpy array using Logspace"
   ]
  },
  {
   "cell_type": "code",
   "execution_count": 10,
   "id": "d5fd2fa1",
   "metadata": {},
   "outputs": [
    {
     "name": "stdout",
     "output_type": "stream",
     "text": [
      "[1.00000000e+01 1.77827941e+08 3.16227766e+15 5.62341325e+22\n",
      " 1.00000000e+30]\n"
     ]
    }
   ],
   "source": [
    "#arr= logspace(start, end, parts)\n",
    "\n",
    "arr=logspace(1,30,5)\n",
    "print(arr)     #log10..2()\n"
   ]
  },
  {
   "cell_type": "code",
   "execution_count": 11,
   "id": "456cf28b",
   "metadata": {},
   "outputs": [
    {
     "name": "stdout",
     "output_type": "stream",
     "text": [
      "3162277660168379.5\n"
     ]
    }
   ],
   "source": [
    "print(arr[2])      #for fixed element in array"
   ]
  },
  {
   "cell_type": "code",
   "execution_count": 12,
   "id": "1a46b9a6",
   "metadata": {},
   "outputs": [
    {
     "name": "stdout",
     "output_type": "stream",
     "text": [
      "3162277660168379.50\n"
     ]
    }
   ],
   "source": [
    "print('%.2f' %arr[2])"
   ]
  },
  {
   "cell_type": "markdown",
   "id": "4e5579be",
   "metadata": {},
   "source": [
    "## Numpy array using zeros"
   ]
  },
  {
   "cell_type": "code",
   "execution_count": 13,
   "id": "22fca06d",
   "metadata": {},
   "outputs": [
    {
     "name": "stdout",
     "output_type": "stream",
     "text": [
      "[0 0 0 0 0]\n"
     ]
    }
   ],
   "source": [
    "arr=zeros(5,int)\n",
    "print(arr)"
   ]
  },
  {
   "cell_type": "code",
   "execution_count": 14,
   "id": "02d04d60",
   "metadata": {},
   "outputs": [
    {
     "name": "stdout",
     "output_type": "stream",
     "text": [
      "[0. 0. 0. 0. 0.]\n"
     ]
    }
   ],
   "source": [
    "arr=zeros(5)\n",
    "print(arr)"
   ]
  },
  {
   "cell_type": "code",
   "execution_count": 15,
   "id": "9c777184",
   "metadata": {},
   "outputs": [
    {
     "name": "stdout",
     "output_type": "stream",
     "text": [
      "[[0 0 0 0 0]\n",
      " [0 0 0 0 0]\n",
      " [0 0 0 0 0]\n",
      " [0 0 0 0 0]]\n"
     ]
    }
   ],
   "source": [
    "arr= zeros((4,5),int)\n",
    "print(arr)     #for 2D array"
   ]
  },
  {
   "cell_type": "code",
   "execution_count": 16,
   "id": "0ec4200e",
   "metadata": {},
   "outputs": [
    {
     "name": "stdout",
     "output_type": "stream",
     "text": [
      "[[[0 0 0 0 0 0]\n",
      "  [0 0 0 0 0 0]\n",
      "  [0 0 0 0 0 0]\n",
      "  [0 0 0 0 0 0]\n",
      "  [0 0 0 0 0 0]]\n",
      "\n",
      " [[0 0 0 0 0 0]\n",
      "  [0 0 0 0 0 0]\n",
      "  [0 0 0 0 0 0]\n",
      "  [0 0 0 0 0 0]\n",
      "  [0 0 0 0 0 0]]\n",
      "\n",
      " [[0 0 0 0 0 0]\n",
      "  [0 0 0 0 0 0]\n",
      "  [0 0 0 0 0 0]\n",
      "  [0 0 0 0 0 0]\n",
      "  [0 0 0 0 0 0]]]\n"
     ]
    }
   ],
   "source": [
    "arr= zeros((3,5,6),int)\n",
    "print(arr)"
   ]
  },
  {
   "cell_type": "code",
   "execution_count": 17,
   "id": "e1856950",
   "metadata": {},
   "outputs": [
    {
     "name": "stdout",
     "output_type": "stream",
     "text": [
      "[[[1. 1. 1. 1.]\n",
      "  [1. 1. 1. 1.]\n",
      "  [1. 1. 1. 1.]]\n",
      "\n",
      " [[1. 1. 1. 1.]\n",
      "  [1. 1. 1. 1.]\n",
      "  [1. 1. 1. 1.]]]\n"
     ]
    }
   ],
   "source": [
    "arr= ones((2,3,4))\n",
    "print(arr)"
   ]
  },
  {
   "cell_type": "markdown",
   "id": "afc63ec9",
   "metadata": {},
   "source": [
    "## Create Numpy array from list"
   ]
  },
  {
   "cell_type": "code",
   "execution_count": 18,
   "id": "6f74b62e",
   "metadata": {},
   "outputs": [
    {
     "name": "stdout",
     "output_type": "stream",
     "text": [
      "[1 3 5 6 8]\n"
     ]
    }
   ],
   "source": [
    "list = [1,3,5,6,8]\n",
    "arr= np.array(list)\n",
    "print(arr)"
   ]
  },
  {
   "cell_type": "code",
   "execution_count": 19,
   "id": "e5947f05",
   "metadata": {},
   "outputs": [
    {
     "name": "stdout",
     "output_type": "stream",
     "text": [
      "[[1 2 3 4]\n",
      " [5 3 7 6]]\n"
     ]
    }
   ],
   "source": [
    "list=[[1,2,3,4],[5,3,7,6]]\n",
    "arr=np.array(list)\n",
    "print(arr)"
   ]
  },
  {
   "cell_type": "markdown",
   "id": "98192c80",
   "metadata": {},
   "source": [
    "## Matrix in Numpy Array"
   ]
  },
  {
   "cell_type": "code",
   "execution_count": 20,
   "id": "66dc4960",
   "metadata": {},
   "outputs": [
    {
     "name": "stdout",
     "output_type": "stream",
     "text": [
      "[10 10 10 10 10]\n"
     ]
    }
   ],
   "source": [
    "matrix=np.full(5,10)\n",
    "print(matrix)  #5=element 10=fixed element"
   ]
  },
  {
   "cell_type": "code",
   "execution_count": 21,
   "id": "96b999e8",
   "metadata": {},
   "outputs": [
    {
     "name": "stdout",
     "output_type": "stream",
     "text": [
      "[[10 10 10]\n",
      " [10 10 10]]\n"
     ]
    }
   ],
   "source": [
    "matrix=np.full((2,3),10)\n",
    "print(matrix)"
   ]
  },
  {
   "cell_type": "markdown",
   "id": "30bdd0fe",
   "metadata": {},
   "source": [
    "## Identy matrix in Numpay array "
   ]
  },
  {
   "cell_type": "code",
   "execution_count": 22,
   "id": "2399565d",
   "metadata": {},
   "outputs": [
    {
     "name": "stdout",
     "output_type": "stream",
     "text": [
      "[[1. 0. 0.]\n",
      " [0. 1. 0.]\n",
      " [0. 0. 1.]]\n"
     ]
    }
   ],
   "source": [
    "#use 'eye' function like matrix=np.eye(3)\n",
    "\n",
    "matrix=np.eye(3)\n",
    "print(matrix)"
   ]
  },
  {
   "cell_type": "markdown",
   "id": "c68b4294",
   "metadata": {},
   "source": [
    "## Diagonal Matrix in Numpy"
   ]
  },
  {
   "cell_type": "code",
   "execution_count": 23,
   "id": "d8faaf94",
   "metadata": {},
   "outputs": [
    {
     "name": "stdout",
     "output_type": "stream",
     "text": [
      "[[1 0 0]\n",
      " [0 5 0]\n",
      " [0 0 3]]\n"
     ]
    }
   ],
   "source": [
    "#use 'diag' function      mat=np.diag([3,5,7])\n",
    "\n",
    "mat=np.diag([1,5,3])\n",
    "print(mat)"
   ]
  },
  {
   "cell_type": "markdown",
   "id": "961f91e2",
   "metadata": {},
   "source": [
    "## Random Generation In Numpy"
   ]
  },
  {
   "cell_type": "code",
   "execution_count": 24,
   "id": "13612305",
   "metadata": {},
   "outputs": [
    {
     "name": "stdout",
     "output_type": "stream",
     "text": [
      "[0.97244611 0.01131084 0.43393175 0.03701057 0.22737249]\n"
     ]
    }
   ],
   "source": [
    "arr= np.random.rand(5)\n",
    "print(arr)"
   ]
  },
  {
   "cell_type": "code",
   "execution_count": 25,
   "id": "49700586",
   "metadata": {},
   "outputs": [
    {
     "name": "stdout",
     "output_type": "stream",
     "text": [
      "[[0.34393732 0.37628175 0.72428212 0.31601736]\n",
      " [0.72979898 0.29566233 0.86017944 0.97758208]\n",
      " [0.08208192 0.4986373  0.83595295 0.81960372]]\n"
     ]
    }
   ],
   "source": [
    "arr= np.random.rand(3,4)\n",
    "print(arr)"
   ]
  },
  {
   "cell_type": "code",
   "execution_count": 26,
   "id": "a03529d5",
   "metadata": {},
   "outputs": [
    {
     "name": "stdout",
     "output_type": "stream",
     "text": [
      "[[[0.03800009 0.72222039 0.99547539 0.78510259]\n",
      "  [0.65004627 0.78118995 0.15661903 0.26352357]\n",
      "  [0.67340498 0.48379037 0.88015065 0.69629047]\n",
      "  [0.19554673 0.77523087 0.28020815 0.27760188]]\n",
      "\n",
      " [[0.45680848 0.52852454 0.39726072 0.13775149]\n",
      "  [0.96930243 0.91892944 0.65959179 0.02863422]\n",
      "  [0.89181286 0.83273833 0.85345991 0.46578045]\n",
      "  [0.43227243 0.48995961 0.2005094  0.84086538]]\n",
      "\n",
      " [[0.4162991  0.9746361  0.55894937 0.36804205]\n",
      "  [0.57705056 0.40678969 0.56145501 0.07822217]\n",
      "  [0.12246254 0.78476481 0.03825944 0.5700675 ]\n",
      "  [0.50027282 0.80622966 0.04682974 0.73263634]]]\n"
     ]
    }
   ],
   "source": [
    "arr=np.random.rand(3,4,4)\n",
    "print(arr)"
   ]
  },
  {
   "cell_type": "code",
   "execution_count": 27,
   "id": "94ca8131",
   "metadata": {},
   "outputs": [
    {
     "name": "stdout",
     "output_type": "stream",
     "text": [
      "[-0.17631878  0.43957034 -0.98873507 -0.89405064  0.17491397]\n"
     ]
    }
   ],
   "source": [
    "arr=np.random.randn(5)\n",
    "print(arr)"
   ]
  },
  {
   "cell_type": "code",
   "execution_count": 28,
   "id": "0a011417",
   "metadata": {},
   "outputs": [
    {
     "name": "stdout",
     "output_type": "stream",
     "text": [
      "[5 8 5 1 8 0 2 1 0 2]\n"
     ]
    }
   ],
   "source": [
    "arr=np.random.randint(0,10,10)\n",
    "print(arr)"
   ]
  },
  {
   "cell_type": "code",
   "execution_count": 29,
   "id": "24d76709",
   "metadata": {},
   "outputs": [
    {
     "name": "stdout",
     "output_type": "stream",
     "text": [
      "[[ 9  5  3]\n",
      " [ 5  7 10]\n",
      " [11  6  9]]\n"
     ]
    }
   ],
   "source": [
    "arr=np.random.randint(1,15,(3,3))\n",
    "print(arr)"
   ]
  },
  {
   "cell_type": "markdown",
   "id": "d762b5ab",
   "metadata": {},
   "source": [
    "## Function In Numpy"
   ]
  },
  {
   "cell_type": "code",
   "execution_count": 30,
   "id": "dc855ca2",
   "metadata": {},
   "outputs": [
    {
     "name": "stdout",
     "output_type": "stream",
     "text": [
      "[ 0.  1.  2.  3.  4.  5.  6.  7.  8.  9. 10. 11. 12. 13. 14. 15.]\n"
     ]
    }
   ],
   "source": [
    "arr1=linspace(0,15,16)\n",
    "print(arr1)"
   ]
  },
  {
   "cell_type": "code",
   "execution_count": 31,
   "id": "735b6634",
   "metadata": {},
   "outputs": [
    {
     "name": "stdout",
     "output_type": "stream",
     "text": [
      "[[1 1 1]\n",
      " [1 1 1]\n",
      " [1 1 1]\n",
      " [1 1 1]]\n"
     ]
    }
   ],
   "source": [
    "arr2=ones((4,3),int)\n",
    "print(arr2)"
   ]
  },
  {
   "cell_type": "code",
   "execution_count": 32,
   "id": "96b2f708",
   "metadata": {},
   "outputs": [
    {
     "data": {
      "text/plain": [
       "1"
      ]
     },
     "execution_count": 32,
     "metadata": {},
     "output_type": "execute_result"
    }
   ],
   "source": [
    "arr1.ndim\n"
   ]
  },
  {
   "cell_type": "code",
   "execution_count": 33,
   "id": "6b1c6024",
   "metadata": {},
   "outputs": [
    {
     "data": {
      "text/plain": [
       "2"
      ]
     },
     "execution_count": 33,
     "metadata": {},
     "output_type": "execute_result"
    }
   ],
   "source": [
    "arr2.ndim"
   ]
  },
  {
   "cell_type": "code",
   "execution_count": 34,
   "id": "1ae7017e",
   "metadata": {},
   "outputs": [
    {
     "data": {
      "text/plain": [
       "(16,)"
      ]
     },
     "execution_count": 34,
     "metadata": {},
     "output_type": "execute_result"
    }
   ],
   "source": [
    "arr1.shape"
   ]
  },
  {
   "cell_type": "code",
   "execution_count": 35,
   "id": "1ca940b3",
   "metadata": {},
   "outputs": [
    {
     "data": {
      "text/plain": [
       "(4, 3)"
      ]
     },
     "execution_count": 35,
     "metadata": {},
     "output_type": "execute_result"
    }
   ],
   "source": [
    "arr2.shape"
   ]
  },
  {
   "cell_type": "code",
   "execution_count": 36,
   "id": "256f9e60",
   "metadata": {},
   "outputs": [
    {
     "data": {
      "text/plain": [
       "16"
      ]
     },
     "execution_count": 36,
     "metadata": {},
     "output_type": "execute_result"
    }
   ],
   "source": [
    "arr1.size"
   ]
  },
  {
   "cell_type": "code",
   "execution_count": 37,
   "id": "e35ebda2",
   "metadata": {},
   "outputs": [
    {
     "data": {
      "text/plain": [
       "12"
      ]
     },
     "execution_count": 37,
     "metadata": {},
     "output_type": "execute_result"
    }
   ],
   "source": [
    "arr2.size"
   ]
  },
  {
   "cell_type": "code",
   "execution_count": 38,
   "id": "74e8b1ac",
   "metadata": {},
   "outputs": [
    {
     "data": {
      "text/plain": [
       "dtype('float64')"
      ]
     },
     "execution_count": 38,
     "metadata": {},
     "output_type": "execute_result"
    }
   ],
   "source": [
    "arr1.dtype"
   ]
  },
  {
   "cell_type": "code",
   "execution_count": 39,
   "id": "ef81fb21",
   "metadata": {},
   "outputs": [
    {
     "data": {
      "text/plain": [
       "dtype('int32')"
      ]
     },
     "execution_count": 39,
     "metadata": {},
     "output_type": "execute_result"
    }
   ],
   "source": [
    "arr2.dtype"
   ]
  },
  {
   "cell_type": "code",
   "execution_count": 40,
   "id": "3324f1fc",
   "metadata": {},
   "outputs": [
    {
     "data": {
      "text/plain": [
       "<memory at 0x000002C1E1899C40>"
      ]
     },
     "execution_count": 40,
     "metadata": {},
     "output_type": "execute_result"
    }
   ],
   "source": [
    "arr1.data"
   ]
  },
  {
   "cell_type": "code",
   "execution_count": 41,
   "id": "9812efb5",
   "metadata": {},
   "outputs": [
    {
     "data": {
      "text/plain": [
       "<memory at 0x000002C1E197D790>"
      ]
     },
     "execution_count": 41,
     "metadata": {},
     "output_type": "execute_result"
    }
   ],
   "source": [
    "arr2.data"
   ]
  },
  {
   "cell_type": "markdown",
   "id": "3952127a",
   "metadata": {},
   "source": [
    "##  Indexing In Numpy"
   ]
  },
  {
   "cell_type": "code",
   "execution_count": 42,
   "id": "b9e807ef",
   "metadata": {},
   "outputs": [
    {
     "name": "stdout",
     "output_type": "stream",
     "text": [
      "[ 0.  1.  2.  3.  4.  5.  6.  7.  8.  9. 10. 11. 12. 13. 14. 15.]\n"
     ]
    }
   ],
   "source": [
    "arr=linspace(0,15,16)\n",
    "print(arr)"
   ]
  },
  {
   "cell_type": "code",
   "execution_count": 43,
   "id": "d5aa4476",
   "metadata": {},
   "outputs": [
    {
     "name": "stdout",
     "output_type": "stream",
     "text": [
      "0.0 1.0 2.0 3.0 4.0 5.0 6.0 7.0 8.0 9.0 10.0 11.0 12.0 13.0 14.0 15.0 "
     ]
    }
   ],
   "source": [
    "for data in arr:\n",
    "    print(data, end= \" \")"
   ]
  },
  {
   "cell_type": "code",
   "execution_count": 44,
   "id": "464f7f0e",
   "metadata": {},
   "outputs": [
    {
     "name": "stdout",
     "output_type": "stream",
     "text": [
      "[1. 2. 3. 4.]\n"
     ]
    }
   ],
   "source": [
    "print(arr[1:5])"
   ]
  },
  {
   "cell_type": "code",
   "execution_count": 45,
   "id": "12aa83ae",
   "metadata": {},
   "outputs": [
    {
     "name": "stdout",
     "output_type": "stream",
     "text": [
      "[0. 1. 2. 3. 4. 5.]\n"
     ]
    }
   ],
   "source": [
    "print(arr[:6])"
   ]
  },
  {
   "cell_type": "code",
   "execution_count": 46,
   "id": "f2088825",
   "metadata": {},
   "outputs": [
    {
     "name": "stdout",
     "output_type": "stream",
     "text": [
      "[ 4.  5.  6.  7.  8.  9. 10. 11. 12. 13. 14. 15.]\n"
     ]
    }
   ],
   "source": [
    "print(arr[4:])"
   ]
  },
  {
   "cell_type": "code",
   "execution_count": 47,
   "id": "e3255673",
   "metadata": {},
   "outputs": [
    {
     "name": "stdout",
     "output_type": "stream",
     "text": [
      "[ 5.  6.  7.  8.  9. 10. 11. 12. 13. 14. 15.]\n"
     ]
    }
   ],
   "source": [
    "arr1=arr[5:]\n",
    "print(arr1)"
   ]
  },
  {
   "cell_type": "code",
   "execution_count": 48,
   "id": "46c7e4fe",
   "metadata": {},
   "outputs": [
    {
     "name": "stdout",
     "output_type": "stream",
     "text": [
      "<built-in method copy of numpy.ndarray object at 0x000002C1E2DA9C90>\n"
     ]
    }
   ],
   "source": [
    "arr2=arr1.copy\n",
    "print(arr2)"
   ]
  },
  {
   "cell_type": "code",
   "execution_count": 49,
   "id": "53b7c9d5",
   "metadata": {},
   "outputs": [
    {
     "name": "stdout",
     "output_type": "stream",
     "text": [
      "Adding 1 to every element: [[2 3]\n",
      " [4 5]]\n",
      "\n",
      "Subtracting 2 from each element: [[ 2  1]\n",
      " [ 0 -1]]\n",
      "\n",
      "Sum of all array elements:  10\n",
      "\n",
      "Array sum:\n",
      " [[5 5]\n",
      " [5 5]]\n"
     ]
    }
   ],
   "source": [
    "# Defining Array 1\n",
    "a = np.array([[1, 2],\n",
    "              [3, 4]])\n",
    " \n",
    "# Defining Array 2\n",
    "b = np.array([[4, 3],\n",
    "              [2, 1]])\n",
    "               \n",
    "# Adding 1 to every element\n",
    "print (\"Adding 1 to every element:\", a + 1)\n",
    " \n",
    "# Subtracting 2 from each element\n",
    "print (\"\\nSubtracting 2 from each element:\", b - 2)\n",
    " \n",
    "# sum of array elements\n",
    "# Performing Unary operations\n",
    "print (\"\\nSum of all array \"\n",
    "       \"elements: \", a.sum())\n",
    " \n",
    "# Adding two arrays\n",
    "# Performing Binary operations\n",
    "print (\"\\nArray sum:\\n\", a + b)"
   ]
  },
  {
   "cell_type": "code",
   "execution_count": 50,
   "id": "248086c0",
   "metadata": {},
   "outputs": [
    {
     "name": "stdout",
     "output_type": "stream",
     "text": [
      "Addition of Two Arrays: \n",
      "[[ 7. 13.]\n",
      " [ 4. 14.]]\n",
      "\n",
      "Addition of Array elements: \n",
      "19.0\n",
      "\n",
      "Square root of Array1 elements: \n",
      "[[2.         2.64575131]\n",
      " [1.41421356 2.44948974]]\n",
      "\n",
      "Transpose of Array: \n",
      "[[4. 2.]\n",
      " [7. 6.]]\n"
     ]
    }
   ],
   "source": [
    "# First Array\n",
    "arr1 = np.array([[4, 7], [2, 6]], \n",
    "                 dtype = np.float64)\n",
    "                  \n",
    "# Second Array\n",
    "arr2 = np.array([[3, 6], [2, 8]], \n",
    "                 dtype = np.float64) \n",
    " \n",
    "# Addition of two Arrays\n",
    "Sum = np.add(arr1, arr2)\n",
    "print(\"Addition of Two Arrays: \")\n",
    "print(Sum)\n",
    " \n",
    "# Addition of all Array elements\n",
    "# using predefined sum method\n",
    "Sum1 = np.sum(arr1)\n",
    "print(\"\\nAddition of Array elements: \")\n",
    "print(Sum1)\n",
    " \n",
    "# Square root of Array\n",
    "Sqrt = np.sqrt(arr1)\n",
    "print(\"\\nSquare root of Array1 elements: \")\n",
    "print(Sqrt)\n",
    " \n",
    "# Transpose of Array\n",
    "# using In-built function 'T'\n",
    "Trans_arr = arr1.T\n",
    "print(\"\\nTranspose of Array: \")\n",
    "print(Trans_arr)"
   ]
  },
  {
   "cell_type": "code",
   "execution_count": 51,
   "id": "b0c812be",
   "metadata": {},
   "outputs": [
    {
     "name": "stdout",
     "output_type": "stream",
     "text": [
      "Array created using passed list:\n",
      " [[1. 2. 4.]\n",
      " [5. 8. 7.]]\n",
      "\n",
      "Array created using passed tuple:\n",
      " [1 3 2]\n",
      "\n",
      "An array initialized with all zeros:\n",
      " [[0. 0. 0. 0.]\n",
      " [0. 0. 0. 0.]\n",
      " [0. 0. 0. 0.]]\n",
      "\n",
      "An array initialized with all 6s.Array type is complex:\n",
      " [[6.+0.j 6.+0.j 6.+0.j]\n",
      " [6.+0.j 6.+0.j 6.+0.j]\n",
      " [6.+0.j 6.+0.j 6.+0.j]]\n",
      "\n",
      "A random array:\n",
      " [[0.47053675 0.43178309]\n",
      " [0.91034395 0.25056232]]\n",
      "\n",
      "A sequential array with steps of 5:\n",
      " [ 0  5 10 15 20 25]\n",
      "\n",
      "A sequential array with 10 values between0 and 5:\n",
      " [0.         0.55555556 1.11111111 1.66666667 2.22222222 2.77777778\n",
      " 3.33333333 3.88888889 4.44444444 5.        ]\n",
      "\n",
      "Original array:\n",
      " [[1 2 3 4]\n",
      " [5 2 4 2]\n",
      " [1 2 0 1]]\n",
      "Reshaped array:\n",
      " [[[1 2 3]\n",
      "  [4 5 2]]\n",
      "\n",
      " [[4 2 1]\n",
      "  [2 0 1]]]\n",
      "\n",
      "Original array:\n",
      " [[1 2 3]\n",
      " [4 5 6]]\n",
      "Fattened array:\n",
      " [1 2 3 4 5 6]\n"
     ]
    }
   ],
   "source": [
    "# Python program to demonstrate \n",
    "# array creation techniques \n",
    "import numpy as np \n",
    "  \n",
    "# Creating array from list with type float \n",
    "a = np.array([[1, 2, 4], [5, 8, 7]], dtype = 'float') \n",
    "print (\"Array created using passed list:\\n\", a) \n",
    "  \n",
    "# Creating array from tuple \n",
    "b = np.array((1 , 3, 2)) \n",
    "print (\"\\nArray created using passed tuple:\\n\", b) \n",
    "  \n",
    "# Creating a 3X4 array with all zeros \n",
    "c = np.zeros((3, 4)) \n",
    "print (\"\\nAn array initialized with all zeros:\\n\", c) \n",
    "  \n",
    "# Create a constant value array of complex type \n",
    "d = np.full((3, 3), 6, dtype = 'complex') \n",
    "print (\"\\nAn array initialized with all 6s.\" \n",
    "            \"Array type is complex:\\n\", d) \n",
    "  \n",
    "# Create an array with random values \n",
    "e = np.random.random((2, 2)) \n",
    "print (\"\\nA random array:\\n\", e) \n",
    "  \n",
    "# Create a sequence of integers  \n",
    "# from 0 to 30 with steps of 5 \n",
    "f = np.arange(0, 30, 5) \n",
    "print (\"\\nA sequential array with steps of 5:\\n\", f) \n",
    "  \n",
    "# Create a sequence of 10 values in range 0 to 5 \n",
    "g = np.linspace(0, 5, 10) \n",
    "print (\"\\nA sequential array with 10 values between\"\n",
    "                                        \"0 and 5:\\n\", g) \n",
    "  \n",
    "# Reshaping 3X4 array to 2X2X3 array \n",
    "arr = np.array([[1, 2, 3, 4], \n",
    "                [5, 2, 4, 2], \n",
    "                [1, 2, 0, 1]]) \n",
    "  \n",
    "newarr = arr.reshape(2, 2, 3) \n",
    "  \n",
    "print (\"\\nOriginal array:\\n\", arr) \n",
    "print (\"Reshaped array:\\n\", newarr) \n",
    "  \n",
    "# Flatten array \n",
    "arr = np.array([[1, 2, 3], [4, 5, 6]]) \n",
    "flarr = arr.flatten() \n",
    "  \n",
    "print (\"\\nOriginal array:\\n\", arr) \n",
    "print (\"Fattened array:\\n\", flarr) "
   ]
  },
  {
   "cell_type": "code",
   "execution_count": 54,
   "id": "b3abb436",
   "metadata": {},
   "outputs": [
    {
     "name": "stdout",
     "output_type": "stream",
     "text": [
      "Vertical stacking:\n",
      " [[1 2]\n",
      " [3 4]\n",
      " [5 6]\n",
      " [7 8]]\n",
      "\n",
      "Horizontal stacking:\n",
      " [[1 2 5 6]\n",
      " [3 4 7 8]]\n",
      "\n",
      "Column stacking:\n",
      " [[1 2 5]\n",
      " [3 4 6]]\n",
      "\n",
      "Concatenating to 2nd axis:\n",
      " [[1 2 5 6]\n",
      " [3 4 7 8]]\n"
     ]
    }
   ],
   "source": [
    "a = np.array([[1, 2], \n",
    "              [3, 4]]) \n",
    "  \n",
    "b = np.array([[5, 6], \n",
    "              [7, 8]]) \n",
    "  \n",
    "# vertical stacking \n",
    "print(\"Vertical stacking:\\n\", np.vstack((a, b))) \n",
    "  \n",
    "# horizontal stacking \n",
    "print(\"\\nHorizontal stacking:\\n\", np.hstack((a, b))) \n",
    "  \n",
    "c = [5, 6] \n",
    "  \n",
    "# stacking columns \n",
    "print(\"\\nColumn stacking:\\n\", np.column_stack((a, c))) \n",
    "  \n",
    "# concatenation method  \n",
    "print(\"\\nConcatenating to 2nd axis:\\n\", np.concatenate((a, b), 1)) "
   ]
  },
  {
   "cell_type": "markdown",
   "id": "abb9f25b",
   "metadata": {},
   "source": [
    "# Date & Time In Numpy "
   ]
  },
  {
   "cell_type": "code",
   "execution_count": 55,
   "id": "3d665a47",
   "metadata": {},
   "outputs": [
    {
     "name": "stdout",
     "output_type": "stream",
     "text": [
      "Date is: 2017-02-12\n",
      "Year is: 2017\n",
      "\n",
      "Dates of February, 2017:\n",
      " ['2017-02-01' '2017-02-02' '2017-02-03' '2017-02-04' '2017-02-05'\n",
      " '2017-02-06' '2017-02-07' '2017-02-08' '2017-02-09' '2017-02-10'\n",
      " '2017-02-11' '2017-02-12' '2017-02-13' '2017-02-14' '2017-02-15'\n",
      " '2017-02-16' '2017-02-17' '2017-02-18' '2017-02-19' '2017-02-20'\n",
      " '2017-02-21' '2017-02-22' '2017-02-23' '2017-02-24' '2017-02-25'\n",
      " '2017-02-26' '2017-02-27' '2017-02-28']\n",
      "Today is February: True\n",
      "\n",
      "No. of days: 365 days\n",
      "No. of weeks: 52 weeks\n",
      "\n",
      "Dates in sorted order: ['2016-10-13' '2017-02-12' '2019-05-22']\n"
     ]
    }
   ],
   "source": [
    "# creating a date \n",
    "today = np.datetime64('2017-02-12') \n",
    "print(\"Date is:\", today) \n",
    "print(\"Year is:\", np.datetime64(today, 'Y')) \n",
    "  \n",
    "# creating array of dates in a month \n",
    "dates = np.arange('2017-02', '2017-03', dtype='datetime64[D]') \n",
    "print(\"\\nDates of February, 2017:\\n\", dates) \n",
    "print(\"Today is February:\", today in dates) \n",
    "  \n",
    "# arithmetic operation on dates \n",
    "dur = np.datetime64('2017-05-22') - np.datetime64('2016-05-22') \n",
    "print(\"\\nNo. of days:\", dur) \n",
    "print(\"No. of weeks:\", np.timedelta64(dur, 'W')) \n",
    "  \n",
    "# sorting dates \n",
    "a = np.array(['2017-02-12', '2016-10-13', '2019-05-22'], dtype='datetime64') \n",
    "print(\"\\nDates in sorted order:\", np.sort(a))"
   ]
  },
  {
   "cell_type": "code",
   "execution_count": 56,
   "id": "fe13d71b",
   "metadata": {},
   "outputs": [
    {
     "name": "stderr",
     "output_type": "stream",
     "text": [
      "C:\\Users\\repan\\AppData\\Local\\Temp\\ipykernel_22404\\15773072.py:11: FutureWarning: `rcond` parameter will change to the default of machine precision times ``max(M, N)`` where M and N are the input matrix dimensions.\n",
      "To use the future default and silence this warning we advise to pass `rcond=None`, to keep using the old, explicitly pass `rcond=-1`.\n",
      "  w = np.linalg.lstsq(A.T, y)[0]\n"
     ]
    },
    {
     "data": {
      "image/png": "[encoded data removed]",
      "text/plain": [
       "<Figure size 640x480 with 1 Axes>"
      ]
     },
     "metadata": {},
     "output_type": "display_data"
    }
   ],
   "source": [
    "import numpy as np \n",
    "import matplotlib.pyplot as plt \n",
    "  \n",
    "# x co-ordinates \n",
    "x = np.arange(0, 9) \n",
    "A = np.array([x, np.ones(9)]) \n",
    "  \n",
    "# linearly generated sequence \n",
    "y = [19, 20, 20.5, 21.5, 22, 23, 23, 25.5, 24] \n",
    "# obtaining the parameters of regression line \n",
    "w = np.linalg.lstsq(A.T, y)[0]  \n",
    "  \n",
    "# plotting the line \n",
    "line = w[0]*x + w[1] # regression line \n",
    "plt.plot(x, line, 'r-') \n",
    "plt.plot(x, y, 'o') \n",
    "plt.show()"
   ]
  },
  {
   "cell_type": "code",
   "execution_count": 57,
   "id": "d8c4f39a",
   "metadata": {},
   "outputs": [
    {
     "data": {
      "image/png": "[encoded data removed]",
      "text/plain": [
       "<Figure size 640x480 with 1 Axes>"
      ]
     },
     "metadata": {},
     "output_type": "display_data"
    }
   ],
   "source": [
    "# importing the required module \n",
    "import matplotlib.pyplot as plt \n",
    "  \n",
    "# x axis values \n",
    "x = [1,2,3] \n",
    "# corresponding y axis values \n",
    "y = [2,4,1] \n",
    "  \n",
    "# plotting the points  \n",
    "plt.plot(x, y) \n",
    "  \n",
    "# naming the x axis \n",
    "plt.xlabel('x - axis') \n",
    "# naming the y axis \n",
    "plt.ylabel('y - axis') \n",
    "  \n",
    "# giving a title to my graph \n",
    "plt.title('My first graph!') \n",
    "  \n",
    "# function to show the plot \n",
    "plt.show() "
   ]
  },
  {
   "cell_type": "code",
   "execution_count": 58,
   "id": "79fb2c27",
   "metadata": {},
   "outputs": [
    {
     "data": {
      "image/png": "[encoded data removed]",
      "text/plain": [
       "<Figure size 640x480 with 1 Axes>"
      ]
     },
     "metadata": {},
     "output_type": "display_data"
    }
   ],
   "source": [
    "import matplotlib.pyplot as plt \n",
    "  \n",
    "# line 1 points \n",
    "x1 = [1,2,3] \n",
    "y1 = [2,4,1] \n",
    "# plotting the line 1 points  \n",
    "plt.plot(x1, y1, label = \"line 1\") \n",
    "  \n",
    "# line 2 points \n",
    "x2 = [1,2,3] \n",
    "y2 = [4,1,3] \n",
    "# plotting the line 2 points  \n",
    "plt.plot(x2, y2, label = \"line 2\") \n",
    "  \n",
    "# naming the x axis \n",
    "plt.xlabel('x - axis') \n",
    "# naming the y axis \n",
    "plt.ylabel('y - axis') \n",
    "# giving a title to my graph \n",
    "plt.title('Two lines on same graph!') \n",
    "  \n",
    "# show a legend on the plot \n",
    "plt.legend() \n",
    "  \n",
    "# function to show the plot \n",
    "plt.show() "
   ]
  },
  {
   "cell_type": "code",
   "execution_count": 59,
   "id": "2c180681",
   "metadata": {},
   "outputs": [
    {
     "data": {
      "image/png": "[encoded data removed]",
      "text/plain": [
       "<Figure size 640x480 with 1 Axes>"
      ]
     },
     "metadata": {},
     "output_type": "display_data"
    }
   ],
   "source": [
    "import matplotlib.pyplot as plt \n",
    "  \n",
    "# x axis values \n",
    "x = [1,2,3,4,5,6] \n",
    "# corresponding y axis values \n",
    "y = [2,4,1,5,2,6] \n",
    "  \n",
    "# plotting the points  \n",
    "plt.plot(x, y, color='green', linestyle='dashed', linewidth = 3, \n",
    "         marker='o', markerfacecolor='blue', markersize=12) \n",
    "  \n",
    "# setting x and y axis range \n",
    "plt.ylim(1,8) \n",
    "plt.xlim(1,8) \n",
    "  \n",
    "# naming the x axis \n",
    "plt.xlabel('x - axis') \n",
    "# naming the y axis \n",
    "plt.ylabel('y - axis') \n",
    "  \n",
    "# giving a title to my graph \n",
    "plt.title('Some cool customizations!') \n",
    "  \n",
    "# function to show the plot \n",
    "plt.show() "
   ]
  },
  {
   "cell_type": "code",
   "execution_count": 60,
   "id": "8c83b7f3",
   "metadata": {},
   "outputs": [
    {
     "data": {
      "image/png": "[encoded data removed]",
      "text/plain": [
       "<Figure size 640x480 with 1 Axes>"
      ]
     },
     "metadata": {},
     "output_type": "display_data"
    }
   ],
   "source": [
    "import matplotlib.pyplot as plt \n",
    "  \n",
    "# x-coordinates of left sides of bars  \n",
    "left = [1, 2, 3, 4, 5] \n",
    "  \n",
    "# heights of bars \n",
    "height = [10, 24, 36, 40, 5] \n",
    "  \n",
    "# labels for bars \n",
    "tick_label = ['one', 'two', 'three', 'four', 'five'] \n",
    "  \n",
    "# plotting a bar chart \n",
    "plt.bar(left, height, tick_label = tick_label, \n",
    "        width = 0.8, color = ['red', 'green']) \n",
    "  \n",
    "# naming the x-axis \n",
    "plt.xlabel('x - axis') \n",
    "# naming the y-axis \n",
    "plt.ylabel('y - axis') \n",
    "# plot title \n",
    "plt.title('My bar chart!') \n",
    "  \n",
    "# function to show the plot \n",
    "plt.show() "
   ]
  },
  {
   "cell_type": "code",
   "execution_count": 61,
   "id": "0a9cefea",
   "metadata": {},
   "outputs": [
    {
     "data": {
      "image/png": "[encoded data removed]",
      "text/plain": [
       "<Figure size 640x480 with 1 Axes>"
      ]
     },
     "metadata": {},
     "output_type": "display_data"
    }
   ],
   "source": [
    "import matplotlib.pyplot as plt \n",
    "  \n",
    "# x-axis values \n",
    "x = [1,2,3,4,5,6,7,8,9,10] \n",
    "# y-axis values \n",
    "y = [2,4,5,7,6,8,9,11,12,12] \n",
    "  \n",
    "# plotting points as a scatter plot \n",
    "plt.scatter(x, y, label= \"stars\", color= \"green\",  \n",
    "            marker= \"*\", s=30) \n",
    "  \n",
    "# x-axis label \n",
    "plt.xlabel('x - axis') \n",
    "# frequency label \n",
    "plt.ylabel('y - axis') \n",
    "# plot title \n",
    "plt.title('My scatter plot!') \n",
    "# showing legend \n",
    "plt.legend() \n",
    "  \n",
    "# function to show the plot \n",
    "plt.show() "
   ]
  },
  {
   "cell_type": "code",
   "execution_count": 62,
   "id": "ca1d2324",
   "metadata": {},
   "outputs": [
    {
     "name": "stdout",
     "output_type": "stream",
     "text": [
      "Addition of Two Arrays: \n",
      "[[ 7. 13.]\n",
      " [ 4. 14.]]\n",
      "\n",
      "Addition of Array elements: \n",
      "19.0\n",
      "\n",
      "Square root of Array1 elements: \n",
      "[[2.         2.64575131]\n",
      " [1.41421356 2.44948974]]\n",
      "\n",
      "Transpose of Array: \n",
      "[[4. 2.]\n",
      " [7. 6.]]\n"
     ]
    }
   ],
   "source": [
    "# Python Program to create\n",
    "# a data type object\n",
    "import numpy as np\n",
    " \n",
    "# First Array\n",
    "arr1 = np.array([[4, 7], [2, 6]], \n",
    "                 dtype = np.float64)\n",
    "                  \n",
    "# Second Array\n",
    "arr2 = np.array([[3, 6], [2, 8]], \n",
    "                 dtype = np.float64) \n",
    "# Addition of two Arrays\n",
    "Sum = np.add(arr1, arr2)\n",
    "print(\"Addition of Two Arrays: \")\n",
    "print(Sum)\n",
    " \n",
    "# Addition of all Array elements\n",
    "# using predefined sum method\n",
    "Sum1 = np.sum(arr1)\n",
    "print(\"\\nAddition of Array elements: \")\n",
    "print(Sum1)\n",
    " \n",
    "# Square root of Array\n",
    "Sqrt = np.sqrt(arr1)\n",
    "print(\"\\nSquare root of Array1 elements: \")\n",
    "print(Sqrt)\n",
    " \n",
    "# Transpose of Array\n",
    "# using In-built function 'T'\n",
    "Trans_arr = arr1.T\n",
    "print(\"\\nTranspose of Array: \")\n",
    "print(Trans_arr)"
   ]
  },
  {
   "cell_type": "code",
   "execution_count": null,
   "id": "e1f16bc8",
   "metadata": {},
   "outputs": [],
   "source": []
  }
 ],
 "metadata": {
  "kernelspec": {
   "display_name": "Python 3 (ipykernel)",
   "language": "python",
   "name": "python3"
  },
  "language_info": {
   "codemirror_mode": {
    "name": "ipython",
    "version": 3
   },
   "file_extension": ".py",
   "mimetype": "text/x-python",
   "name": "python",
   "nbconvert_exporter": "python",
   "pygments_lexer": "ipython3",
   "version": "3.9.13"
  }
 },
 "nbformat": 4,
 "nbformat_minor": 5
}
