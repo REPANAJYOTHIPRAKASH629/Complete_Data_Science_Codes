{
 "cells": [
  {
   "cell_type": "markdown",
   "id": "bd6aa937",
   "metadata": {},
   "source": [
    "# Numpy and Array Basics"
   ]
  },
  {
   "cell_type": "raw",
   "id": "a3aa50b2",
   "metadata": {},
   "source": [
    "The numpy library is one of the core packages in Python's data science software stack. Many other Python data analysis libraries require numpy as a prerequisite, because they use its array data structure as a building block. The Kaggle Python environment has numpy available by default; if you are running Python locally, the Anaconda Python distribution comes with numpy as well.\n",
    "Numpy implements a data structure called the N-dimensional array or ndarray. ndarrays are similar to lists in that they contain a collection of items that can be accessed via indexes. On the other hand, ndarrays are homogeneous, meaning they can only contain objects of the same type and they can be multi-dimensional, making it easy to store 2-dimensional tables or matrices."
   ]
  },
  {
   "cell_type": "markdown",
   "id": "41c9c2be",
   "metadata": {},
   "source": [
    "# Import NumPY Library"
   ]
  },
  {
   "cell_type": "code",
   "execution_count": 1,
   "id": "419a1927",
   "metadata": {},
   "outputs": [],
   "source": [
    "import numpy as np"
   ]
  },
  {
   "cell_type": "markdown",
   "id": "3aee33be",
   "metadata": {},
   "source": [
    "# Creating a NumPy Array"
   ]
  },
  {
   "cell_type": "markdown",
   "id": "eed7afc6",
   "metadata": {},
   "source": [
    "## Basic ndarray"
   ]
  },
  {
   "cell_type": "code",
   "execution_count": 2,
   "id": "cb2e8f6e",
   "metadata": {},
   "outputs": [],
   "source": [
    "a = [10,20,30,40]"
   ]
  },
  {
   "cell_type": "code",
   "execution_count": 3,
   "id": "2e0f1d6e",
   "metadata": {},
   "outputs": [
    {
     "data": {
      "text/plain": [
       "list"
      ]
     },
     "execution_count": 3,
     "metadata": {},
     "output_type": "execute_result"
    }
   ],
   "source": [
    "type(a)"
   ]
  },
  {
   "cell_type": "code",
   "execution_count": 4,
   "id": "f468f798",
   "metadata": {},
   "outputs": [],
   "source": [
    "x = np.array(a)"
   ]
  },
  {
   "cell_type": "code",
   "execution_count": 5,
   "id": "2c4d0869",
   "metadata": {},
   "outputs": [
    {
     "name": "stdout",
     "output_type": "stream",
     "text": [
      "[10 20 30 40]\n"
     ]
    }
   ],
   "source": [
    "print(x)"
   ]
  },
  {
   "cell_type": "code",
   "execution_count": 6,
   "id": "de63f54c",
   "metadata": {},
   "outputs": [
    {
     "data": {
      "text/plain": [
       "numpy.ndarray"
      ]
     },
     "execution_count": 6,
     "metadata": {},
     "output_type": "execute_result"
    }
   ],
   "source": [
    "type(x)"
   ]
  },
  {
   "cell_type": "code",
   "execution_count": 7,
   "id": "005118e6",
   "metadata": {},
   "outputs": [],
   "source": [
    "a = [1,2,3,4]\n",
    "b = [10,20,30,40]\n",
    "x = np.array([a,b])"
   ]
  },
  {
   "cell_type": "code",
   "execution_count": 8,
   "id": "74418615",
   "metadata": {},
   "outputs": [
    {
     "name": "stdout",
     "output_type": "stream",
     "text": [
      "[[ 1  2  3  4]\n",
      " [10 20 30 40]]\n"
     ]
    }
   ],
   "source": [
    "print(x)"
   ]
  },
  {
   "cell_type": "code",
   "execution_count": 9,
   "id": "72204733",
   "metadata": {},
   "outputs": [
    {
     "name": "stderr",
     "output_type": "stream",
     "text": [
      "C:\\Users\\repan\\AppData\\Local\\Temp\\ipykernel_20408\\1620225346.py:3: VisibleDeprecationWarning: Creating an ndarray from ragged nested sequences (which is a list-or-tuple of lists-or-tuples-or ndarrays with different lengths or shapes) is deprecated. If you meant to do this, you must specify 'dtype=object' when creating the ndarray.\n",
      "  x = np.array([a,b])\n"
     ]
    }
   ],
   "source": [
    "a = [1,2,3,4]\n",
    "b = [10,20,30]\n",
    "x = np.array([a,b])"
   ]
  },
  {
   "cell_type": "code",
   "execution_count": 10,
   "id": "82060db4",
   "metadata": {},
   "outputs": [
    {
     "name": "stdout",
     "output_type": "stream",
     "text": [
      "[list([1, 2, 3, 4]) list([10, 20, 30])]\n"
     ]
    }
   ],
   "source": [
    "print(x)"
   ]
  },
  {
   "cell_type": "code",
   "execution_count": 11,
   "id": "f385386b",
   "metadata": {},
   "outputs": [
    {
     "name": "stdout",
     "output_type": "stream",
     "text": [
      "[1. 2. 3. 4.]\n"
     ]
    }
   ],
   "source": [
    "x = np.array([1,2,3,4], dtype = np.float32)\n",
    "print(x)"
   ]
  },
  {
   "cell_type": "code",
   "execution_count": 12,
   "id": "0b11be74",
   "metadata": {},
   "outputs": [
    {
     "name": "stdout",
     "output_type": "stream",
     "text": [
      "[[0. 0. 0.]\n",
      " [0. 0. 0.]]\n"
     ]
    }
   ],
   "source": [
    "x = np.zeros((2,3))\n",
    "print(x)"
   ]
  },
  {
   "cell_type": "markdown",
   "id": "37fe3cfb",
   "metadata": {},
   "source": [
    "## Array of zeros"
   ]
  },
  {
   "cell_type": "code",
   "execution_count": 13,
   "id": "1621fefb",
   "metadata": {},
   "outputs": [
    {
     "name": "stdout",
     "output_type": "stream",
     "text": [
      "[[0. 0. 0. 0.]\n",
      " [0. 0. 0. 0.]\n",
      " [0. 0. 0. 0.]\n",
      " [0. 0. 0. 0.]]\n"
     ]
    }
   ],
   "source": [
    "x = np.zeros((4,4))\n",
    "print(x)"
   ]
  },
  {
   "cell_type": "markdown",
   "id": "609152cf",
   "metadata": {},
   "source": [
    "## Array of ones"
   ]
  },
  {
   "cell_type": "code",
   "execution_count": 14,
   "id": "41c285ac",
   "metadata": {},
   "outputs": [
    {
     "data": {
      "text/plain": [
       "array([[1., 1., 1.],\n",
       "       [1., 1., 1.],\n",
       "       [1., 1., 1.]])"
      ]
     },
     "execution_count": 14,
     "metadata": {},
     "output_type": "execute_result"
    }
   ],
   "source": [
    "np.ones((3,3))"
   ]
  },
  {
   "cell_type": "code",
   "execution_count": 15,
   "id": "25427b89",
   "metadata": {},
   "outputs": [
    {
     "data": {
      "text/plain": [
       "array([1, 1, 1, 1, 1])"
      ]
     },
     "execution_count": 15,
     "metadata": {},
     "output_type": "execute_result"
    }
   ],
   "source": [
    "np.ones(5, dtype = np.int32)"
   ]
  },
  {
   "cell_type": "markdown",
   "id": "aa031a93",
   "metadata": {},
   "source": [
    "## Random numbers in ndarrays"
   ]
  },
  {
   "cell_type": "code",
   "execution_count": 16,
   "id": "c886d7c5",
   "metadata": {},
   "outputs": [],
   "source": [
    "x = np.random.rand(2,5)"
   ]
  },
  {
   "cell_type": "code",
   "execution_count": 17,
   "id": "4dddd764",
   "metadata": {},
   "outputs": [
    {
     "name": "stdout",
     "output_type": "stream",
     "text": [
      "[[0.68404332 0.28598013 0.51076013 0.9751243  0.7095091 ]\n",
      " [0.28831428 0.35731131 0.38045858 0.78441924 0.23315269]]\n"
     ]
    }
   ],
   "source": [
    "print(x)"
   ]
  },
  {
   "cell_type": "code",
   "execution_count": 18,
   "id": "cdb5655c",
   "metadata": {},
   "outputs": [],
   "source": [
    "np.random.rand??"
   ]
  },
  {
   "cell_type": "code",
   "execution_count": 19,
   "id": "18f7a300",
   "metadata": {},
   "outputs": [
    {
     "data": {
      "text/plain": [
       "array([[ 8, 18,  1],\n",
       "       [12, 10, 13],\n",
       "       [19,  4,  6]])"
      ]
     },
     "execution_count": 19,
     "metadata": {},
     "output_type": "execute_result"
    }
   ],
   "source": [
    "np.random.randint(1,20, size = (3,3))"
   ]
  },
  {
   "cell_type": "code",
   "execution_count": 20,
   "id": "c8958a8f",
   "metadata": {},
   "outputs": [],
   "source": [
    "np.random.randint??"
   ]
  },
  {
   "cell_type": "code",
   "execution_count": 21,
   "id": "2a5c483c",
   "metadata": {},
   "outputs": [
    {
     "data": {
      "text/plain": [
       "array([[-1.20191542,  0.74899155, -0.86812756, -0.39905165,  0.73439043],\n",
       "       [-0.96096274, -0.26016993, -0.64825341, -0.24942407, -0.49587732]])"
      ]
     },
     "execution_count": 21,
     "metadata": {},
     "output_type": "execute_result"
    }
   ],
   "source": [
    "np.random.randn(2,5)"
   ]
  },
  {
   "cell_type": "code",
   "execution_count": 22,
   "id": "5ad18d2c",
   "metadata": {},
   "outputs": [],
   "source": [
    "np.random.randn??"
   ]
  },
  {
   "cell_type": "code",
   "execution_count": 23,
   "id": "2265c23d",
   "metadata": {},
   "outputs": [
    {
     "data": {
      "text/plain": [
       "10"
      ]
     },
     "execution_count": 23,
     "metadata": {},
     "output_type": "execute_result"
    }
   ],
   "source": [
    "np.random.choice([2,3,4,7,8,10])"
   ]
  },
  {
   "cell_type": "markdown",
   "id": "4f7945fb",
   "metadata": {},
   "source": [
    "## An array of your choice"
   ]
  },
  {
   "cell_type": "code",
   "execution_count": 24,
   "id": "93f75329",
   "metadata": {},
   "outputs": [
    {
     "data": {
      "text/plain": [
       "array([[10, 10, 10, 10],\n",
       "       [10, 10, 10, 10],\n",
       "       [10, 10, 10, 10]])"
      ]
     },
     "execution_count": 24,
     "metadata": {},
     "output_type": "execute_result"
    }
   ],
   "source": [
    "np.full((3,4),10)"
   ]
  },
  {
   "cell_type": "code",
   "execution_count": 25,
   "id": "09624091",
   "metadata": {},
   "outputs": [
    {
     "data": {
      "text/plain": [
       "array([[10., 10., 10.],\n",
       "       [10., 10., 10.],\n",
       "       [10., 10., 10.]])"
      ]
     },
     "execution_count": 25,
     "metadata": {},
     "output_type": "execute_result"
    }
   ],
   "source": [
    "np.ones((3,3))*10"
   ]
  },
  {
   "cell_type": "markdown",
   "id": "f215d0e8",
   "metadata": {},
   "source": [
    "## Identity matrix"
   ]
  },
  {
   "cell_type": "code",
   "execution_count": 26,
   "id": "96d4109f",
   "metadata": {},
   "outputs": [
    {
     "name": "stdout",
     "output_type": "stream",
     "text": [
      "[[0. 0. 0. 0.]\n",
      " [1. 0. 0. 0.]\n",
      " [0. 1. 0. 0.]\n",
      " [0. 0. 1. 0.]]\n"
     ]
    }
   ],
   "source": [
    "x = np.eye(4, k = -1)\n",
    "print(x)"
   ]
  },
  {
   "cell_type": "code",
   "execution_count": 26,
   "id": "8ad9db05",
   "metadata": {},
   "outputs": [],
   "source": [
    "np.eye??"
   ]
  },
  {
   "cell_type": "markdown",
   "id": "d25f7892",
   "metadata": {},
   "source": [
    "## Evenly spaced ndarray"
   ]
  },
  {
   "cell_type": "code",
   "execution_count": 27,
   "id": "fcd18a42",
   "metadata": {},
   "outputs": [
    {
     "data": {
      "text/plain": [
       "array([ 5,  6,  7,  8,  9, 10])"
      ]
     },
     "execution_count": 27,
     "metadata": {},
     "output_type": "execute_result"
    }
   ],
   "source": [
    "np.arange(5,11)"
   ]
  },
  {
   "cell_type": "code",
   "execution_count": 29,
   "id": "c55598f0",
   "metadata": {},
   "outputs": [
    {
     "data": {
      "text/plain": [
       "array([ 0,  2,  4,  6,  8, 10])"
      ]
     },
     "execution_count": 29,
     "metadata": {},
     "output_type": "execute_result"
    }
   ],
   "source": [
    "np.arange(0,11,2)"
   ]
  },
  {
   "cell_type": "code",
   "execution_count": 30,
   "id": "2043161a",
   "metadata": {},
   "outputs": [
    {
     "data": {
      "text/plain": [
       "array([0.  , 0.25, 0.5 , 0.75, 1.  ])"
      ]
     },
     "execution_count": 30,
     "metadata": {},
     "output_type": "execute_result"
    }
   ],
   "source": [
    "np.linspace(0,1,5)"
   ]
  },
  {
   "cell_type": "markdown",
   "id": "d57c780c",
   "metadata": {},
   "source": [
    "# $\\frac{end-start}{n-1}$"
   ]
  },
  {
   "cell_type": "markdown",
   "id": "7b461dca",
   "metadata": {},
   "source": [
    "# Shape and Reshaping of NumPy Array"
   ]
  },
  {
   "cell_type": "markdown",
   "id": "761baa22",
   "metadata": {},
   "source": [
    "## Dimension of nparray"
   ]
  },
  {
   "cell_type": "code",
   "execution_count": 31,
   "id": "fbf8f18d",
   "metadata": {},
   "outputs": [
    {
     "name": "stdout",
     "output_type": "stream",
     "text": [
      "[10 20 30 40 50]\n"
     ]
    }
   ],
   "source": [
    "a = [10,20,30,40,50]\n",
    "x = np.array(a)\n",
    "print(x)"
   ]
  },
  {
   "cell_type": "code",
   "execution_count": 32,
   "id": "82547104",
   "metadata": {},
   "outputs": [
    {
     "data": {
      "text/plain": [
       "1"
      ]
     },
     "execution_count": 32,
     "metadata": {},
     "output_type": "execute_result"
    }
   ],
   "source": [
    "x.ndim"
   ]
  },
  {
   "cell_type": "code",
   "execution_count": 33,
   "id": "455191be",
   "metadata": {},
   "outputs": [
    {
     "name": "stdout",
     "output_type": "stream",
     "text": [
      "[[10 20 30 40 50]\n",
      " [ 1  2  3  4  5]]\n"
     ]
    }
   ],
   "source": [
    "b = [1,2,3,4,5]\n",
    "y = np.array([a,b])\n",
    "print(y)"
   ]
  },
  {
   "cell_type": "code",
   "execution_count": 34,
   "id": "f06d4a5c",
   "metadata": {},
   "outputs": [
    {
     "data": {
      "text/plain": [
       "2"
      ]
     },
     "execution_count": 34,
     "metadata": {},
     "output_type": "execute_result"
    }
   ],
   "source": [
    "y.ndim"
   ]
  },
  {
   "cell_type": "markdown",
   "id": "f0da525a",
   "metadata": {},
   "source": [
    "## Shape of NumPy array"
   ]
  },
  {
   "cell_type": "code",
   "execution_count": 35,
   "id": "52df291c",
   "metadata": {},
   "outputs": [
    {
     "data": {
      "text/plain": [
       "(2, 5)"
      ]
     },
     "execution_count": 35,
     "metadata": {},
     "output_type": "execute_result"
    }
   ],
   "source": [
    "y.shape"
   ]
  },
  {
   "cell_type": "code",
   "execution_count": 36,
   "id": "2df4156f",
   "metadata": {},
   "outputs": [
    {
     "data": {
      "text/plain": [
       "10"
      ]
     },
     "execution_count": 36,
     "metadata": {},
     "output_type": "execute_result"
    }
   ],
   "source": [
    "y.size"
   ]
  },
  {
   "cell_type": "markdown",
   "id": "82e1585c",
   "metadata": {},
   "source": [
    "## Reshaping a NumPy array"
   ]
  },
  {
   "cell_type": "code",
   "execution_count": 37,
   "id": "e0a5908a",
   "metadata": {},
   "outputs": [
    {
     "name": "stdout",
     "output_type": "stream",
     "text": [
      "[ 3  6  9 12]\n"
     ]
    }
   ],
   "source": [
    "a = np.array([3,6,9,12])\n",
    "print(a)"
   ]
  },
  {
   "cell_type": "code",
   "execution_count": 38,
   "id": "6ec2dca8",
   "metadata": {},
   "outputs": [
    {
     "data": {
      "text/plain": [
       "array([[ 3,  6],\n",
       "       [ 9, 12]])"
      ]
     },
     "execution_count": 38,
     "metadata": {},
     "output_type": "execute_result"
    }
   ],
   "source": [
    "np.reshape(a, (2,2))"
   ]
  },
  {
   "cell_type": "code",
   "execution_count": 39,
   "id": "866d152c",
   "metadata": {},
   "outputs": [
    {
     "data": {
      "text/plain": [
       "array([[ 3,  6],\n",
       "       [ 9, 12]])"
      ]
     },
     "execution_count": 39,
     "metadata": {},
     "output_type": "execute_result"
    }
   ],
   "source": [
    "a.reshape(2,2)"
   ]
  },
  {
   "cell_type": "code",
   "execution_count": 40,
   "id": "6e55e0fc",
   "metadata": {},
   "outputs": [
    {
     "data": {
      "text/plain": [
       "array([ 1,  2,  3,  4,  5,  6,  7,  8,  9, 10, 11, 12, 13, 14, 15])"
      ]
     },
     "execution_count": 40,
     "metadata": {},
     "output_type": "execute_result"
    }
   ],
   "source": [
    "x = np.arange(1,16)\n",
    "x"
   ]
  },
  {
   "cell_type": "code",
   "execution_count": 41,
   "id": "39291767",
   "metadata": {},
   "outputs": [
    {
     "data": {
      "text/plain": [
       "15"
      ]
     },
     "execution_count": 41,
     "metadata": {},
     "output_type": "execute_result"
    }
   ],
   "source": [
    "x.size"
   ]
  },
  {
   "cell_type": "code",
   "execution_count": 42,
   "id": "e73b2ebe",
   "metadata": {},
   "outputs": [
    {
     "data": {
      "text/plain": [
       "array([[ 1,  2,  3],\n",
       "       [ 4,  5,  6],\n",
       "       [ 7,  8,  9],\n",
       "       [10, 11, 12],\n",
       "       [13, 14, 15]])"
      ]
     },
     "execution_count": 42,
     "metadata": {},
     "output_type": "execute_result"
    }
   ],
   "source": [
    "x.reshape(5,3)"
   ]
  },
  {
   "cell_type": "markdown",
   "id": "ba8faa06",
   "metadata": {},
   "source": [
    "## Transpose of a NumPy array"
   ]
  },
  {
   "cell_type": "code",
   "execution_count": 43,
   "id": "2eae4b3e",
   "metadata": {},
   "outputs": [
    {
     "name": "stdout",
     "output_type": "stream",
     "text": [
      "[ 1  2  3  4  5  6  7  8  9 10 11 12 13 14 15]\n"
     ]
    }
   ],
   "source": [
    "x = np.arange(1,16)\n",
    "print(x)"
   ]
  },
  {
   "cell_type": "code",
   "execution_count": 44,
   "id": "52a6fdee",
   "metadata": {},
   "outputs": [
    {
     "name": "stdout",
     "output_type": "stream",
     "text": [
      "[[ 1  2  3  4  5]\n",
      " [ 6  7  8  9 10]\n",
      " [11 12 13 14 15]]\n"
     ]
    }
   ],
   "source": [
    "y = x.reshape(3,5)\n",
    "print(y)"
   ]
  },
  {
   "cell_type": "code",
   "execution_count": 45,
   "id": "5bc60b5c",
   "metadata": {},
   "outputs": [
    {
     "name": "stdout",
     "output_type": "stream",
     "text": [
      "[[ 1  6 11]\n",
      " [ 2  7 12]\n",
      " [ 3  8 13]\n",
      " [ 4  9 14]\n",
      " [ 5 10 15]]\n"
     ]
    }
   ],
   "source": [
    "z = np.transpose(y)\n",
    "print(z)"
   ]
  },
  {
   "cell_type": "code",
   "execution_count": 46,
   "id": "dd4ab283",
   "metadata": {},
   "outputs": [
    {
     "data": {
      "text/plain": [
       "array([[ 1,  6, 11],\n",
       "       [ 2,  7, 12],\n",
       "       [ 3,  8, 13],\n",
       "       [ 4,  9, 14],\n",
       "       [ 5, 10, 15]])"
      ]
     },
     "execution_count": 46,
     "metadata": {},
     "output_type": "execute_result"
    }
   ],
   "source": [
    "y.transpose()"
   ]
  },
  {
   "cell_type": "markdown",
   "id": "21c1e06a",
   "metadata": {},
   "source": [
    "# Indexing and Slicing of NumPy Array"
   ]
  },
  {
   "cell_type": "markdown",
   "id": "bbd2a4cb",
   "metadata": {},
   "source": [
    "## 1D NumPy arrays"
   ]
  },
  {
   "cell_type": "code",
   "execution_count": 47,
   "id": "8aa5677d",
   "metadata": {},
   "outputs": [],
   "source": [
    "a = np.arange(1,10)"
   ]
  },
  {
   "cell_type": "code",
   "execution_count": 48,
   "id": "a85b3831",
   "metadata": {},
   "outputs": [
    {
     "name": "stdout",
     "output_type": "stream",
     "text": [
      "[1 2 3 4 5 6 7 8 9]\n"
     ]
    }
   ],
   "source": [
    "print(a)"
   ]
  },
  {
   "cell_type": "code",
   "execution_count": 49,
   "id": "58ba11f0",
   "metadata": {},
   "outputs": [
    {
     "data": {
      "text/plain": [
       "array([3, 4, 5, 6])"
      ]
     },
     "execution_count": 49,
     "metadata": {},
     "output_type": "execute_result"
    }
   ],
   "source": [
    "a[2:6]"
   ]
  },
  {
   "cell_type": "markdown",
   "id": "12873d62",
   "metadata": {},
   "source": [
    "# 2-D NumPy arrays"
   ]
  },
  {
   "cell_type": "code",
   "execution_count": 50,
   "id": "33eab1f6",
   "metadata": {},
   "outputs": [
    {
     "name": "stdout",
     "output_type": "stream",
     "text": [
      "[[1 2 3]\n",
      " [4 5 6]\n",
      " [7 8 9]]\n"
     ]
    }
   ],
   "source": [
    "x = np.arange(1,10).reshape(3,3)\n",
    "print(x)"
   ]
  },
  {
   "cell_type": "code",
   "execution_count": 51,
   "id": "dbf4523e",
   "metadata": {},
   "outputs": [
    {
     "data": {
      "text/plain": [
       "6"
      ]
     },
     "execution_count": 51,
     "metadata": {},
     "output_type": "execute_result"
    }
   ],
   "source": [
    "x[1,2]"
   ]
  },
  {
   "cell_type": "code",
   "execution_count": 52,
   "id": "e2bb6d93",
   "metadata": {},
   "outputs": [
    {
     "data": {
      "text/plain": [
       "6"
      ]
     },
     "execution_count": 52,
     "metadata": {},
     "output_type": "execute_result"
    }
   ],
   "source": [
    "x[1][2]"
   ]
  },
  {
   "cell_type": "code",
   "execution_count": 53,
   "id": "eac91344",
   "metadata": {},
   "outputs": [
    {
     "data": {
      "text/plain": [
       "array([[5, 6],\n",
       "       [8, 9]])"
      ]
     },
     "execution_count": 53,
     "metadata": {},
     "output_type": "execute_result"
    }
   ],
   "source": [
    "x[1:3,1:3]"
   ]
  },
  {
   "cell_type": "markdown",
   "id": "1b5fc419",
   "metadata": {},
   "source": [
    "# Stacking and Concatenating NumPy Arrays"
   ]
  },
  {
   "cell_type": "markdown",
   "id": "4bbec961",
   "metadata": {},
   "source": [
    "## Stacking"
   ]
  },
  {
   "cell_type": "code",
   "execution_count": 54,
   "id": "26989f99",
   "metadata": {},
   "outputs": [],
   "source": [
    "a = np.arange(1,6)\n",
    "b = np.arange(6,11)"
   ]
  },
  {
   "cell_type": "code",
   "execution_count": 55,
   "id": "4c187692",
   "metadata": {},
   "outputs": [
    {
     "name": "stdout",
     "output_type": "stream",
     "text": [
      "[1 2 3 4 5]\n"
     ]
    }
   ],
   "source": [
    "print(a)"
   ]
  },
  {
   "cell_type": "code",
   "execution_count": 58,
   "id": "45a301f8",
   "metadata": {},
   "outputs": [
    {
     "name": "stdout",
     "output_type": "stream",
     "text": [
      "[ 6  7  8  9 10]\n"
     ]
    }
   ],
   "source": [
    "print(b)"
   ]
  },
  {
   "cell_type": "code",
   "execution_count": 59,
   "id": "d7451eca",
   "metadata": {},
   "outputs": [],
   "source": [
    "x = np.vstack((a,b))"
   ]
  },
  {
   "cell_type": "code",
   "execution_count": 60,
   "id": "afba8d83",
   "metadata": {},
   "outputs": [
    {
     "name": "stdout",
     "output_type": "stream",
     "text": [
      "[[ 1  2  3  4  5]\n",
      " [ 6  7  8  9 10]]\n"
     ]
    }
   ],
   "source": [
    "print(x)"
   ]
  },
  {
   "cell_type": "code",
   "execution_count": 61,
   "id": "f06c3e14",
   "metadata": {},
   "outputs": [],
   "source": [
    "x = np.hstack((a,b))"
   ]
  },
  {
   "cell_type": "code",
   "execution_count": 62,
   "id": "dbf9ea83",
   "metadata": {},
   "outputs": [
    {
     "name": "stdout",
     "output_type": "stream",
     "text": [
      "[ 1  2  3  4  5  6  7  8  9 10]\n"
     ]
    }
   ],
   "source": [
    "print(x)"
   ]
  },
  {
   "cell_type": "markdown",
   "id": "550fb00b",
   "metadata": {},
   "source": [
    "## Concatenating"
   ]
  },
  {
   "cell_type": "code",
   "execution_count": 63,
   "id": "a31c02aa",
   "metadata": {},
   "outputs": [],
   "source": [
    "a = np.arange(1,10).reshape(3,3)"
   ]
  },
  {
   "cell_type": "code",
   "execution_count": 64,
   "id": "9b7f7ac7",
   "metadata": {},
   "outputs": [],
   "source": [
    "b = np.arange(10,19).reshape(3,3)"
   ]
  },
  {
   "cell_type": "code",
   "execution_count": 65,
   "id": "f47f34b8",
   "metadata": {},
   "outputs": [
    {
     "name": "stdout",
     "output_type": "stream",
     "text": [
      "[[1 2 3]\n",
      " [4 5 6]\n",
      " [7 8 9]]\n"
     ]
    }
   ],
   "source": [
    "print(a)"
   ]
  },
  {
   "cell_type": "code",
   "execution_count": 66,
   "id": "3e4ccd56",
   "metadata": {},
   "outputs": [
    {
     "name": "stdout",
     "output_type": "stream",
     "text": [
      "[[10 11 12]\n",
      " [13 14 15]\n",
      " [16 17 18]]\n"
     ]
    }
   ],
   "source": [
    "print(b)"
   ]
  },
  {
   "cell_type": "code",
   "execution_count": 67,
   "id": "08b4aa0f",
   "metadata": {},
   "outputs": [
    {
     "data": {
      "text/plain": [
       "array([[ 1,  2,  3],\n",
       "       [ 4,  5,  6],\n",
       "       [ 7,  8,  9],\n",
       "       [10, 11, 12],\n",
       "       [13, 14, 15],\n",
       "       [16, 17, 18]])"
      ]
     },
     "execution_count": 67,
     "metadata": {},
     "output_type": "execute_result"
    }
   ],
   "source": [
    "np.concatenate((a,b))"
   ]
  },
  {
   "cell_type": "code",
   "execution_count": 68,
   "id": "12a3368b",
   "metadata": {},
   "outputs": [
    {
     "data": {
      "text/plain": [
       "array([[ 1,  2,  3, 10, 11, 12],\n",
       "       [ 4,  5,  6, 13, 14, 15],\n",
       "       [ 7,  8,  9, 16, 17, 18]])"
      ]
     },
     "execution_count": 68,
     "metadata": {},
     "output_type": "execute_result"
    }
   ],
   "source": [
    "np.concatenate((a,b), axis = 1)"
   ]
  },
  {
   "cell_type": "markdown",
   "id": "52fc7b07",
   "metadata": {},
   "source": [
    "# Broadcasting in NumPy arrays"
   ]
  },
  {
   "cell_type": "code",
   "execution_count": 69,
   "id": "87b4ae01",
   "metadata": {},
   "outputs": [],
   "source": [
    "a = np.arange(10,21,2)"
   ]
  },
  {
   "cell_type": "code",
   "execution_count": 70,
   "id": "13ced5d8",
   "metadata": {},
   "outputs": [],
   "source": [
    "b = np.array([[2],[2]])"
   ]
  },
  {
   "cell_type": "code",
   "execution_count": 71,
   "id": "0fb110a3",
   "metadata": {},
   "outputs": [
    {
     "name": "stdout",
     "output_type": "stream",
     "text": [
      "[10 12 14 16 18 20]\n"
     ]
    }
   ],
   "source": [
    "print(a)"
   ]
  },
  {
   "cell_type": "code",
   "execution_count": 72,
   "id": "ad925bb7",
   "metadata": {},
   "outputs": [
    {
     "name": "stdout",
     "output_type": "stream",
     "text": [
      "[[2]\n",
      " [2]]\n"
     ]
    }
   ],
   "source": [
    "print(b)"
   ]
  },
  {
   "cell_type": "code",
   "execution_count": 73,
   "id": "61b41e85",
   "metadata": {},
   "outputs": [
    {
     "name": "stdout",
     "output_type": "stream",
     "text": [
      "[[12 14 16 18 20 22]\n",
      " [12 14 16 18 20 22]]\n"
     ]
    }
   ],
   "source": [
    "z = a+b\n",
    "print(z)"
   ]
  },
  {
   "cell_type": "code",
   "execution_count": 74,
   "id": "50568f1e",
   "metadata": {},
   "outputs": [],
   "source": [
    "a = np.arange(10,21,2)"
   ]
  },
  {
   "cell_type": "code",
   "execution_count": 75,
   "id": "11e7195b",
   "metadata": {},
   "outputs": [
    {
     "data": {
      "text/plain": [
       "array([12, 14, 16, 18, 20, 22])"
      ]
     },
     "execution_count": 75,
     "metadata": {},
     "output_type": "execute_result"
    }
   ],
   "source": [
    "a+2"
   ]
  },
  {
   "cell_type": "code",
   "execution_count": 76,
   "id": "24aa150c",
   "metadata": {},
   "outputs": [
    {
     "data": {
      "text/plain": [
       "array([[ 8, 10, 12, 14, 16, 18],\n",
       "       [ 8, 10, 12, 14, 16, 18]])"
      ]
     },
     "execution_count": 76,
     "metadata": {},
     "output_type": "execute_result"
    }
   ],
   "source": [
    "a - b"
   ]
  },
  {
   "cell_type": "code",
   "execution_count": 77,
   "id": "f70ac0bc",
   "metadata": {},
   "outputs": [
    {
     "data": {
      "text/plain": [
       "array([[20, 24, 28, 32, 36, 40],\n",
       "       [20, 24, 28, 32, 36, 40]])"
      ]
     },
     "execution_count": 77,
     "metadata": {},
     "output_type": "execute_result"
    }
   ],
   "source": [
    "a*b"
   ]
  },
  {
   "cell_type": "code",
   "execution_count": 78,
   "id": "deee8cd2",
   "metadata": {},
   "outputs": [
    {
     "name": "stdout",
     "output_type": "stream",
     "text": [
      "[[1. 1. 1.]\n",
      " [1. 1. 1.]\n",
      " [1. 1. 1.]]\n"
     ]
    }
   ],
   "source": [
    "a = np.ones((3,3))\n",
    "b = np.array([2])\n",
    "print(a)"
   ]
  },
  {
   "cell_type": "code",
   "execution_count": 79,
   "id": "8dd01af0",
   "metadata": {},
   "outputs": [
    {
     "name": "stdout",
     "output_type": "stream",
     "text": [
      "[2]\n"
     ]
    }
   ],
   "source": [
    "print(b)"
   ]
  },
  {
   "cell_type": "code",
   "execution_count": 80,
   "id": "b905ea60",
   "metadata": {},
   "outputs": [
    {
     "data": {
      "text/plain": [
       "array([[3., 3., 3.],\n",
       "       [3., 3., 3.],\n",
       "       [3., 3., 3.]])"
      ]
     },
     "execution_count": 80,
     "metadata": {},
     "output_type": "execute_result"
    }
   ],
   "source": [
    "a+b"
   ]
  },
  {
   "cell_type": "code",
   "execution_count": 81,
   "id": "8e83be2c",
   "metadata": {},
   "outputs": [
    {
     "data": {
      "text/plain": [
       "array([[-1., -1., -1.],\n",
       "       [-1., -1., -1.],\n",
       "       [-1., -1., -1.]])"
      ]
     },
     "execution_count": 81,
     "metadata": {},
     "output_type": "execute_result"
    }
   ],
   "source": [
    "a-b"
   ]
  },
  {
   "cell_type": "markdown",
   "id": "45982714",
   "metadata": {},
   "source": [
    "# Arithmetic Operations on NumPy Array"
   ]
  },
  {
   "cell_type": "code",
   "execution_count": 82,
   "id": "0d882107",
   "metadata": {},
   "outputs": [
    {
     "name": "stdout",
     "output_type": "stream",
     "text": [
      "[[1. 0. 0. 0.]\n",
      " [0. 1. 0. 0.]\n",
      " [0. 0. 1. 0.]\n",
      " [0. 0. 0. 1.]]\n"
     ]
    }
   ],
   "source": [
    "a = np.eye(4)\n",
    "print(a)"
   ]
  },
  {
   "cell_type": "code",
   "execution_count": 83,
   "id": "5c935214",
   "metadata": {},
   "outputs": [
    {
     "name": "stdout",
     "output_type": "stream",
     "text": [
      "[[6. 5. 5. 5.]\n",
      " [5. 6. 5. 5.]\n",
      " [5. 5. 6. 5.]\n",
      " [5. 5. 5. 6.]]\n"
     ]
    }
   ],
   "source": [
    "print(a+5)"
   ]
  },
  {
   "cell_type": "code",
   "execution_count": 84,
   "id": "b891e187",
   "metadata": {},
   "outputs": [
    {
     "data": {
      "text/plain": [
       "array([[ 0., -1., -1., -1.],\n",
       "       [-1.,  0., -1., -1.],\n",
       "       [-1., -1.,  0., -1.],\n",
       "       [-1., -1., -1.,  0.]])"
      ]
     },
     "execution_count": 84,
     "metadata": {},
     "output_type": "execute_result"
    }
   ],
   "source": [
    "a - 1"
   ]
  },
  {
   "cell_type": "code",
   "execution_count": 85,
   "id": "abee3537",
   "metadata": {},
   "outputs": [
    {
     "data": {
      "text/plain": [
       "array([[2., 0., 0., 0.],\n",
       "       [0., 2., 0., 0.],\n",
       "       [0., 0., 2., 0.],\n",
       "       [0., 0., 0., 2.]])"
      ]
     },
     "execution_count": 85,
     "metadata": {},
     "output_type": "execute_result"
    }
   ],
   "source": [
    "a*2"
   ]
  },
  {
   "cell_type": "code",
   "execution_count": 86,
   "id": "15a393a9",
   "metadata": {},
   "outputs": [
    {
     "data": {
      "text/plain": [
       "array([[2., 0., 0., 0.],\n",
       "       [0., 2., 0., 0.],\n",
       "       [0., 0., 2., 0.],\n",
       "       [0., 0., 0., 2.]])"
      ]
     },
     "execution_count": 86,
     "metadata": {},
     "output_type": "execute_result"
    }
   ],
   "source": [
    "a/0.5"
   ]
  },
  {
   "cell_type": "code",
   "execution_count": 87,
   "id": "ce37a54d",
   "metadata": {},
   "outputs": [
    {
     "data": {
      "text/plain": [
       "array([[0.84147098, 0.        , 0.        , 0.        ],\n",
       "       [0.        , 0.84147098, 0.        , 0.        ],\n",
       "       [0.        , 0.        , 0.84147098, 0.        ],\n",
       "       [0.        , 0.        , 0.        , 0.84147098]])"
      ]
     },
     "execution_count": 87,
     "metadata": {},
     "output_type": "execute_result"
    }
   ],
   "source": [
    "np.sin(a)"
   ]
  },
  {
   "cell_type": "code",
   "execution_count": 88,
   "id": "1ed41832",
   "metadata": {},
   "outputs": [
    {
     "data": {
      "text/plain": [
       "array([[0.54030231, 1.        , 1.        , 1.        ],\n",
       "       [1.        , 0.54030231, 1.        , 1.        ],\n",
       "       [1.        , 1.        , 0.54030231, 1.        ],\n",
       "       [1.        , 1.        , 1.        , 0.54030231]])"
      ]
     },
     "execution_count": 88,
     "metadata": {},
     "output_type": "execute_result"
    }
   ],
   "source": [
    "np.cos(a)"
   ]
  },
  {
   "cell_type": "code",
   "execution_count": 89,
   "id": "d97e7925",
   "metadata": {},
   "outputs": [
    {
     "data": {
      "text/plain": [
       "array([[1., 0., 0., 0.],\n",
       "       [0., 1., 0., 0.],\n",
       "       [0., 0., 1., 0.],\n",
       "       [0., 0., 0., 1.]])"
      ]
     },
     "execution_count": 89,
     "metadata": {},
     "output_type": "execute_result"
    }
   ],
   "source": [
    "np.sqrt(a)"
   ]
  },
  {
   "cell_type": "markdown",
   "id": "65cc755a",
   "metadata": {},
   "source": [
    "# Aggregate Function"
   ]
  },
  {
   "cell_type": "markdown",
   "id": "ebad1c8a",
   "metadata": {},
   "source": [
    "## Mean, Median and Standard deviation"
   ]
  },
  {
   "cell_type": "code",
   "execution_count": 90,
   "id": "baba0ea3",
   "metadata": {},
   "outputs": [],
   "source": [
    "a = np.arange(5,15,2)"
   ]
  },
  {
   "cell_type": "code",
   "execution_count": 91,
   "id": "45e278e1",
   "metadata": {},
   "outputs": [
    {
     "name": "stdout",
     "output_type": "stream",
     "text": [
      "[ 5  7  9 11 13]\n"
     ]
    }
   ],
   "source": [
    "print(a)"
   ]
  },
  {
   "cell_type": "code",
   "execution_count": 92,
   "id": "c94b9514",
   "metadata": {},
   "outputs": [
    {
     "data": {
      "text/plain": [
       "9.0"
      ]
     },
     "execution_count": 92,
     "metadata": {},
     "output_type": "execute_result"
    }
   ],
   "source": [
    "np.mean(a)"
   ]
  },
  {
   "cell_type": "code",
   "execution_count": 93,
   "id": "ec50444a",
   "metadata": {},
   "outputs": [
    {
     "data": {
      "text/plain": [
       "9.0"
      ]
     },
     "execution_count": 93,
     "metadata": {},
     "output_type": "execute_result"
    }
   ],
   "source": [
    "np.median(a)"
   ]
  },
  {
   "cell_type": "code",
   "execution_count": 94,
   "id": "7222eeab",
   "metadata": {},
   "outputs": [
    {
     "data": {
      "text/plain": [
       "2.8284271247461903"
      ]
     },
     "execution_count": 94,
     "metadata": {},
     "output_type": "execute_result"
    }
   ],
   "source": [
    "np.std(a)"
   ]
  },
  {
   "cell_type": "markdown",
   "id": "34989e2b",
   "metadata": {},
   "source": [
    "## Min-Max values"
   ]
  },
  {
   "cell_type": "code",
   "execution_count": 95,
   "id": "16095838",
   "metadata": {},
   "outputs": [
    {
     "name": "stdout",
     "output_type": "stream",
     "text": [
      "[[1 6]\n",
      " [4 3]]\n"
     ]
    }
   ],
   "source": [
    "a = np.array([[1,6],[4,3]])\n",
    "print(a)"
   ]
  },
  {
   "cell_type": "code",
   "execution_count": 96,
   "id": "86b48970",
   "metadata": {},
   "outputs": [
    {
     "name": "stdout",
     "output_type": "stream",
     "text": [
      "[1 3]\n"
     ]
    }
   ],
   "source": [
    "print(np.min(a, axis = 0))"
   ]
  },
  {
   "cell_type": "code",
   "execution_count": 97,
   "id": "6e2f8263",
   "metadata": {},
   "outputs": [
    {
     "name": "stdout",
     "output_type": "stream",
     "text": [
      "[1 3]\n"
     ]
    }
   ],
   "source": [
    "print(np.min(a, axis = 1))"
   ]
  },
  {
   "cell_type": "code",
   "execution_count": 98,
   "id": "46c8a338",
   "metadata": {},
   "outputs": [
    {
     "name": "stdout",
     "output_type": "stream",
     "text": [
      "[6 4]\n"
     ]
    }
   ],
   "source": [
    "print(np.max(a, axis = 1))"
   ]
  },
  {
   "cell_type": "code",
   "execution_count": 99,
   "id": "22704582",
   "metadata": {},
   "outputs": [
    {
     "name": "stdout",
     "output_type": "stream",
     "text": [
      "[4 6]\n"
     ]
    }
   ],
   "source": [
    "print(np.max(a, axis = 0))"
   ]
  },
  {
   "cell_type": "markdown",
   "id": "c7b55a93",
   "metadata": {},
   "source": [
    "# Sorting"
   ]
  },
  {
   "cell_type": "code",
   "execution_count": 100,
   "id": "76a7dde2",
   "metadata": {},
   "outputs": [],
   "source": [
    "a = np.array([1,4,3,10,20])"
   ]
  },
  {
   "cell_type": "code",
   "execution_count": 101,
   "id": "ea13c9e6",
   "metadata": {},
   "outputs": [],
   "source": [
    "x = np.sort(a, kind = 'mergesort')"
   ]
  },
  {
   "cell_type": "code",
   "execution_count": 102,
   "id": "239691d5",
   "metadata": {},
   "outputs": [
    {
     "name": "stdout",
     "output_type": "stream",
     "text": [
      "[ 1  3  4 10 20]\n"
     ]
    }
   ],
   "source": [
    "print(x)"
   ]
  },
  {
   "cell_type": "markdown",
   "id": "8d67520c",
   "metadata": {},
   "source": [
    "# Matrix Multiplication"
   ]
  },
  {
   "cell_type": "code",
   "execution_count": 103,
   "id": "ff8ee3ac",
   "metadata": {},
   "outputs": [],
   "source": [
    "A = np.arange(0,9).reshape(3,3)\n",
    "B = np.ones((3,3))"
   ]
  },
  {
   "cell_type": "code",
   "execution_count": 104,
   "id": "43b9eab1",
   "metadata": {},
   "outputs": [
    {
     "name": "stdout",
     "output_type": "stream",
     "text": [
      "[[0 1 2]\n",
      " [3 4 5]\n",
      " [6 7 8]]\n"
     ]
    }
   ],
   "source": [
    "print(A)"
   ]
  },
  {
   "cell_type": "code",
   "execution_count": 105,
   "id": "9cf329c5",
   "metadata": {},
   "outputs": [
    {
     "name": "stdout",
     "output_type": "stream",
     "text": [
      "[[1. 1. 1.]\n",
      " [1. 1. 1.]\n",
      " [1. 1. 1.]]\n"
     ]
    }
   ],
   "source": [
    "print(B)"
   ]
  },
  {
   "cell_type": "code",
   "execution_count": 106,
   "id": "6fb3ce14",
   "metadata": {},
   "outputs": [
    {
     "data": {
      "text/plain": [
       "array([[ 3.,  3.,  3.],\n",
       "       [12., 12., 12.],\n",
       "       [21., 21., 21.]])"
      ]
     },
     "execution_count": 106,
     "metadata": {},
     "output_type": "execute_result"
    }
   ],
   "source": [
    "np.dot(A,B)"
   ]
  },
  {
   "cell_type": "code",
   "execution_count": 107,
   "id": "c761a40c",
   "metadata": {},
   "outputs": [
    {
     "data": {
      "text/plain": [
       "array([[ 3.,  3.,  3.],\n",
       "       [12., 12., 12.],\n",
       "       [21., 21., 21.]])"
      ]
     },
     "execution_count": 107,
     "metadata": {},
     "output_type": "execute_result"
    }
   ],
   "source": [
    "A.dot(B)"
   ]
  }
 ],
 "metadata": {
  "kernelspec": {
   "display_name": "Python 3 (ipykernel)",
   "language": "python",
   "name": "python3"
  },
  "language_info": {
   "codemirror_mode": {
    "name": "ipython",
    "version": 3
   },
   "file_extension": ".py",
   "mimetype": "text/x-python",
   "name": "python",
   "nbconvert_exporter": "python",
   "pygments_lexer": "ipython3",
   "version": "3.9.13"
  }
 },
 "nbformat": 4,
 "nbformat_minor": 5
}
